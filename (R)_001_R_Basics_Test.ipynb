{
  "nbformat": 4,
  "nbformat_minor": 0,
  "metadata": {
    "colab": {
      "provenance": [],
      "collapsed_sections": [],
      "authorship_tag": "ABX9TyNWj9LVL9dpBqg5ze3TJhVW",
      "include_colab_link": true
    },
    "kernelspec": {
      "name": "ir",
      "display_name": "R"
    },
    "language_info": {
      "name": "R"
    }
  },
  "cells": [
    {
      "cell_type": "markdown",
      "metadata": {
        "id": "view-in-github",
        "colab_type": "text"
      },
      "source": [
        "<a href=\"https://colab.research.google.com/github/likeJoseph/helloworld/blob/master/(R)_001_R_Basics_Test.ipynb\" target=\"_parent\"><img src=\"https://colab.research.google.com/assets/colab-badge.svg\" alt=\"Open In Colab\"/></a>"
      ]
    },
    {
      "cell_type": "markdown",
      "source": [
        "# **R Basics Exercise**\n",
        "We will test you on a few topics:\n",
        "\n",
        "* Basic Data Types\n",
        "* Basic Arithmetic\n",
        "* Vector\n",
        "* Vector Operations\n",
        "* Comparison operators\n",
        "* Vector Selection and Indexing\n",
        "\n",
        "The exercises below should be straightforward if you've reviewed the lecture, don't expect something very challenging yet, this is more of a review to make sure you've understood everything so far! Later on exercises/projects will be more challenging (and a lot more fun!)"
      ],
      "metadata": {
        "id": "7LE_EGt-UIqd"
      }
    },
    {
      "cell_type": "markdown",
      "source": [
        "# **Solve the following problems using R**\n",
        "**What is two to power of five?**"
      ],
      "metadata": {
        "id": "cg9XVoShUc3y"
      }
    },
    {
      "cell_type": "code",
      "execution_count": null,
      "metadata": {
        "colab": {
          "base_uri": "https://localhost:8080/",
          "height": 34
        },
        "id": "KOdpU5_WS5Fo",
        "outputId": "0a61ec75-3f75-48ec-d1f2-d08ddc734730"
      },
      "outputs": [
        {
          "output_type": "display_data",
          "data": {
            "text/html": [
              "32"
            ],
            "text/markdown": "32",
            "text/latex": "32",
            "text/plain": [
              "[1] 32"
            ]
          },
          "metadata": {}
        }
      ],
      "source": [
        "2^5"
      ]
    },
    {
      "cell_type": "markdown",
      "source": [
        "**Create a vector called stock.prices with the following data points: 23,27,23,21,34**"
      ],
      "metadata": {
        "id": "FTgpod3GUnUe"
      }
    },
    {
      "cell_type": "code",
      "source": [
        "stock.prices <- c(23, 27, 23, 21, 34)\n",
        "stock.prices"
      ],
      "metadata": {
        "colab": {
          "base_uri": "https://localhost:8080/",
          "height": 34
        },
        "id": "QKccRMQPUn02",
        "outputId": "e47652e6-0cf1-4a24-b079-6bda2ede9507"
      },
      "execution_count": null,
      "outputs": [
        {
          "output_type": "display_data",
          "data": {
            "text/html": [
              "<style>\n",
              ".list-inline {list-style: none; margin:0; padding: 0}\n",
              ".list-inline>li {display: inline-block}\n",
              ".list-inline>li:not(:last-child)::after {content: \"\\00b7\"; padding: 0 .5ex}\n",
              "</style>\n",
              "<ol class=list-inline><li>23</li><li>27</li><li>23</li><li>21</li><li>34</li></ol>\n"
            ],
            "text/markdown": "1. 23\n2. 27\n3. 23\n4. 21\n5. 34\n\n\n",
            "text/latex": "\\begin{enumerate*}\n\\item 23\n\\item 27\n\\item 23\n\\item 21\n\\item 34\n\\end{enumerate*}\n",
            "text/plain": [
              "[1] 23 27 23 21 34"
            ]
          },
          "metadata": {}
        }
      ]
    },
    {
      "cell_type": "markdown",
      "source": [
        "**Assign names to the price data points relating to the day of the week, starting with Mon, Tue, Wed, etc...**"
      ],
      "metadata": {
        "id": "5-ccgN26VPcZ"
      }
    },
    {
      "cell_type": "code",
      "source": [
        "names(stock.prices) <- c('Mon', 'Tue', 'Wed', 'Thu', 'Fri')\n",
        "print(stock.prices)"
      ],
      "metadata": {
        "colab": {
          "base_uri": "https://localhost:8080/"
        },
        "id": "vOdxmn6sVQcI",
        "outputId": "d565ab8d-6c3d-482e-c356-5a7c344dca11"
      },
      "execution_count": null,
      "outputs": [
        {
          "output_type": "stream",
          "name": "stdout",
          "text": [
            "Mon Tue Wed Thu Fri \n",
            " 23  27  23  21  34 \n"
          ]
        }
      ]
    },
    {
      "cell_type": "markdown",
      "source": [
        "**What was the average (mean) stock price for the week? (You may need to reference a built-in function)**"
      ],
      "metadata": {
        "id": "L1DefoioWk4t"
      }
    },
    {
      "cell_type": "code",
      "source": [
        "mean(stock.prices)"
      ],
      "metadata": {
        "colab": {
          "base_uri": "https://localhost:8080/",
          "height": 34
        },
        "id": "S3Uym9dBWn_J",
        "outputId": "242eb8ad-f128-48f7-a8a1-1a4943d47c3e"
      },
      "execution_count": null,
      "outputs": [
        {
          "output_type": "display_data",
          "data": {
            "text/html": [
              "25.6"
            ],
            "text/markdown": "25.6",
            "text/latex": "25.6",
            "text/plain": [
              "[1] 25.6"
            ]
          },
          "metadata": {}
        }
      ]
    },
    {
      "cell_type": "markdown",
      "source": [
        "**Create a vector called over.23 consisting of logicals that correspond to the days where the stock price was more than $23**"
      ],
      "metadata": {
        "id": "JrWJK_KCWtuu"
      }
    },
    {
      "cell_type": "code",
      "source": [
        "over.23 <- stock.prices[stock.prices > 23]\n",
        "print(over.23)"
      ],
      "metadata": {
        "colab": {
          "base_uri": "https://localhost:8080/"
        },
        "id": "BXheNVyRWohn",
        "outputId": "fec7fcbd-638d-4042-bea4-dcce73de9ff9"
      },
      "execution_count": null,
      "outputs": [
        {
          "output_type": "stream",
          "name": "stdout",
          "text": [
            "Tue Fri \n",
            " 27  34 \n"
          ]
        }
      ]
    },
    {
      "cell_type": "markdown",
      "source": [
        "**Use a built-in function to find the day the price was the highest**"
      ],
      "metadata": {
        "id": "4VfPSV77XS8o"
      }
    },
    {
      "cell_type": "code",
      "source": [
        "stock.prices[stock.prices == max(stock.prices)]"
      ],
      "metadata": {
        "colab": {
          "base_uri": "https://localhost:8080/",
          "height": 34
        },
        "id": "kLS9sjLhWo0b",
        "outputId": "09706d36-3e92-4a5b-f8d5-b6d4b79b3478"
      },
      "execution_count": null,
      "outputs": [
        {
          "output_type": "display_data",
          "data": {
            "text/html": [
              "<strong>Fri:</strong> 34"
            ],
            "text/markdown": "**Fri:** 34",
            "text/latex": "\\textbf{Fri:} 34",
            "text/plain": [
              "Fri \n",
              " 34 "
            ]
          },
          "metadata": {}
        }
      ]
    },
    {
      "cell_type": "markdown",
      "source": [
        "Okay that's it for the exercise on the basics! Great job!"
      ],
      "metadata": {
        "id": "oYALbFLJXwnz"
      }
    }
  ]
}