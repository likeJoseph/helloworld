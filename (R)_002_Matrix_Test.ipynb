{
  "nbformat": 4,
  "nbformat_minor": 0,
  "metadata": {
    "colab": {
      "provenance": [],
      "collapsed_sections": [],
      "authorship_tag": "ABX9TyPnvEqc9hlkoHQRdCg5iWJf",
      "include_colab_link": true
    },
    "kernelspec": {
      "name": "ir",
      "display_name": "R"
    },
    "language_info": {
      "name": "R"
    }
  },
  "cells": [
    {
      "cell_type": "markdown",
      "metadata": {
        "id": "view-in-github",
        "colab_type": "text"
      },
      "source": [
        "<a href=\"https://colab.research.google.com/github/likeJoseph/helloworld/blob/master/(R)_002_Matrix_Test.ipynb\" target=\"_parent\"><img src=\"https://colab.research.google.com/assets/colab-badge.svg\" alt=\"Open In Colab\"/></a>"
      ]
    },
    {
      "cell_type": "markdown",
      "source": [
        "https://colab.research.google.com/notebook#create=true&language=r\n"
      ],
      "metadata": {
        "id": "5wtlt-Jn2DyS"
      }
    },
    {
      "cell_type": "markdown",
      "source": [
        "# **R Matrix Exercises**\n",
        "\n",
        "Through these exercises we will review the matrix data structure and perhaps introduce you to a few ideas for you to discover on your own! Just answer the questions below written in bold:\n",
        "\n",
        "**Ex 1: Create 2 vectors A and B, where A is (1,2,3) and B is (4,5,6). With these vectors, use the cbind() or rbind() function to create a 2 by 3 matrix from the vectors. You'll need to figure out which of these binding functions is the correct choice.**"
      ],
      "metadata": {
        "id": "DrPvDm61WfQS"
      }
    },
    {
      "cell_type": "code",
      "source": [
        "A <- c(1,2,3)\n",
        "B <- c(4,5,6)\n",
        "\n",
        "rbind(A,B)"
      ],
      "metadata": {
        "id": "bbLfoXDr2Hlg",
        "colab": {
          "base_uri": "https://localhost:8080/",
          "height": 114
        },
        "outputId": "860e8a2d-de4a-4f4e-c50e-094733476904"
      },
      "execution_count": null,
      "outputs": [
        {
          "output_type": "display_data",
          "data": {
            "text/html": [
              "<table class=\"dataframe\">\n",
              "<caption>A matrix: 2 × 3 of type dbl</caption>\n",
              "<tbody>\n",
              "\t<tr><th scope=row>A</th><td>1</td><td>2</td><td>3</td></tr>\n",
              "\t<tr><th scope=row>B</th><td>4</td><td>5</td><td>6</td></tr>\n",
              "</tbody>\n",
              "</table>\n"
            ],
            "text/markdown": "\nA matrix: 2 × 3 of type dbl\n\n| A | 1 | 2 | 3 |\n| B | 4 | 5 | 6 |\n\n",
            "text/latex": "A matrix: 2 × 3 of type dbl\n\\begin{tabular}{r|lll}\n\tA & 1 & 2 & 3\\\\\n\tB & 4 & 5 & 6\\\\\n\\end{tabular}\n",
            "text/plain": [
              "  [,1] [,2] [,3]\n",
              "A 1    2    3   \n",
              "B 4    5    6   "
            ]
          },
          "metadata": {}
        }
      ]
    },
    {
      "cell_type": "markdown",
      "source": [
        "**Ex 2: Create a 3 by 3 matrix consisting of the numbers 1-9. Create this matrix using the shortcut 1:9 and by specifying the nrow argument in the matrix() function call. Assign this matrix to the variable mat**"
      ],
      "metadata": {
        "id": "4sjjmWhmXZpy"
      }
    },
    {
      "cell_type": "code",
      "source": [
        "mat <- matrix(1:9, nrow = 3)"
      ],
      "metadata": {
        "id": "d0VxzQYWXYOM"
      },
      "execution_count": null,
      "outputs": []
    },
    {
      "cell_type": "markdown",
      "source": [
        "**Ex 3: Confirm that mat is a matrix using is.matrix()**"
      ],
      "metadata": {
        "id": "QRcvuYXmPSTl"
      }
    },
    {
      "cell_type": "code",
      "source": [
        "is.matrix(mat)"
      ],
      "metadata": {
        "colab": {
          "base_uri": "https://localhost:8080/",
          "height": 34
        },
        "id": "HlURhN9aPP5a",
        "outputId": "feed768b-b1ce-4ed1-b16c-b862a47f9ce8"
      },
      "execution_count": null,
      "outputs": [
        {
          "output_type": "display_data",
          "data": {
            "text/html": [
              "TRUE"
            ],
            "text/markdown": "TRUE",
            "text/latex": "TRUE",
            "text/plain": [
              "[1] TRUE"
            ]
          },
          "metadata": {}
        }
      ]
    },
    {
      "cell_type": "markdown",
      "source": [
        "**Ex 4: Create a 5 by 5 matrix consisting of the numbers 1-25 and assign it to the variable mat2. The top row should be the numbers 1-5.**"
      ],
      "metadata": {
        "id": "EqizFUj1PZWo"
      }
    },
    {
      "cell_type": "code",
      "source": [
        "mat2 <- matrix(1:25, 5, byrow = TRUE)\n",
        "mat2"
      ],
      "metadata": {
        "colab": {
          "base_uri": "https://localhost:8080/",
          "height": 208
        },
        "id": "VqfD_tYiPQ1Y",
        "outputId": "f13455da-f71f-49cd-fe5f-6896578072b1"
      },
      "execution_count": null,
      "outputs": [
        {
          "output_type": "display_data",
          "data": {
            "text/html": [
              "<table class=\"dataframe\">\n",
              "<caption>A matrix: 5 × 5 of type int</caption>\n",
              "<tbody>\n",
              "\t<tr><td> 1</td><td> 2</td><td> 3</td><td> 4</td><td> 5</td></tr>\n",
              "\t<tr><td> 6</td><td> 7</td><td> 8</td><td> 9</td><td>10</td></tr>\n",
              "\t<tr><td>11</td><td>12</td><td>13</td><td>14</td><td>15</td></tr>\n",
              "\t<tr><td>16</td><td>17</td><td>18</td><td>19</td><td>20</td></tr>\n",
              "\t<tr><td>21</td><td>22</td><td>23</td><td>24</td><td>25</td></tr>\n",
              "</tbody>\n",
              "</table>\n"
            ],
            "text/markdown": "\nA matrix: 5 × 5 of type int\n\n|  1 |  2 |  3 |  4 |  5 |\n|  6 |  7 |  8 |  9 | 10 |\n| 11 | 12 | 13 | 14 | 15 |\n| 16 | 17 | 18 | 19 | 20 |\n| 21 | 22 | 23 | 24 | 25 |\n\n",
            "text/latex": "A matrix: 5 × 5 of type int\n\\begin{tabular}{lllll}\n\t  1 &  2 &  3 &  4 &  5\\\\\n\t  6 &  7 &  8 &  9 & 10\\\\\n\t 11 & 12 & 13 & 14 & 15\\\\\n\t 16 & 17 & 18 & 19 & 20\\\\\n\t 21 & 22 & 23 & 24 & 25\\\\\n\\end{tabular}\n",
            "text/plain": [
              "     [,1] [,2] [,3] [,4] [,5]\n",
              "[1,]  1    2    3    4    5  \n",
              "[2,]  6    7    8    9   10  \n",
              "[3,] 11   12   13   14   15  \n",
              "[4,] 16   17   18   19   20  \n",
              "[5,] 21   22   23   24   25  "
            ]
          },
          "metadata": {}
        }
      ]
    },
    {
      "cell_type": "markdown",
      "source": [
        "**Ex 5: Using indexing notation, grab a sub-section of mat2 from the previous exercise that looks like this:**\n",
        "\n",
        "[7,8]<br>\n",
        "[12,13] "
      ],
      "metadata": {
        "id": "eGrZsfswP4ye"
      }
    },
    {
      "cell_type": "code",
      "source": [
        "print(mat2[2:3, 2:3])"
      ],
      "metadata": {
        "colab": {
          "base_uri": "https://localhost:8080/"
        },
        "id": "VdnB2qnGPd8Y",
        "outputId": "73e3a046-3032-428b-a3e5-e1ebcbcb782c"
      },
      "execution_count": null,
      "outputs": [
        {
          "output_type": "stream",
          "name": "stdout",
          "text": [
            "     [,1] [,2]\n",
            "[1,]    7    8\n",
            "[2,]   12   13\n"
          ]
        }
      ]
    },
    {
      "cell_type": "markdown",
      "source": [
        "**Ex 6: Using indexing notation, grab a sub-section of mat2 from the previous exercise that looks like this:**\n",
        "\n",
        "[19,20]<br>\n",
        "[24,25]"
      ],
      "metadata": {
        "id": "9vfZ9I9cQNkE"
      }
    },
    {
      "cell_type": "code",
      "source": [
        "print(mat2[4:5, 4:5])"
      ],
      "metadata": {
        "colab": {
          "base_uri": "https://localhost:8080/"
        },
        "id": "86_WH46kPfYH",
        "outputId": "665e7652-6b60-4938-f139-f976d733a6b3"
      },
      "execution_count": null,
      "outputs": [
        {
          "output_type": "stream",
          "name": "stdout",
          "text": [
            "     [,1] [,2]\n",
            "[1,]   19   20\n",
            "[2,]   24   25\n"
          ]
        }
      ]
    },
    {
      "cell_type": "markdown",
      "source": [
        "**Ex 7: What is the sum of all the elements in mat2?**"
      ],
      "metadata": {
        "id": "VUU6YcfCQjbG"
      }
    },
    {
      "cell_type": "code",
      "source": [
        "sum(mat2)"
      ],
      "metadata": {
        "colab": {
          "base_uri": "https://localhost:8080/",
          "height": 34
        },
        "id": "J-Pc3WR2Pen8",
        "outputId": "305f3a80-6093-4dc1-941b-f8a0009644c0"
      },
      "execution_count": null,
      "outputs": [
        {
          "output_type": "display_data",
          "data": {
            "text/html": [
              "325"
            ],
            "text/markdown": "325",
            "text/latex": "325",
            "text/plain": [
              "[1] 325"
            ]
          },
          "metadata": {}
        }
      ]
    },
    {
      "cell_type": "markdown",
      "source": [
        "**Ex 8: Ok time for our last exercise! Find out how to use runif() to create a 4 by 5 matrix consisting of 20 random numbers (4*5=20).**"
      ],
      "metadata": {
        "id": "3v4_f7tzQp4t"
      }
    },
    {
      "cell_type": "code",
      "source": [
        "matrix(runif(20), nrow = 4)"
      ],
      "metadata": {
        "colab": {
          "base_uri": "https://localhost:8080/",
          "height": 160
        },
        "id": "JmfiqcVLQqTA",
        "outputId": "14db1daa-8d04-4432-8994-f01bcc2f8b72"
      },
      "execution_count": null,
      "outputs": [
        {
          "output_type": "display_data",
          "data": {
            "text/html": [
              "<table class=\"dataframe\">\n",
              "<caption>A matrix: 4 × 5 of type dbl</caption>\n",
              "<tbody>\n",
              "\t<tr><td>0.1620186</td><td>0.7919480</td><td>0.1750495</td><td>0.8312216</td><td>0.7887331</td></tr>\n",
              "\t<tr><td>0.1448891</td><td>0.5953602</td><td>0.1843555</td><td>0.5566000</td><td>0.1940169</td></tr>\n",
              "\t<tr><td>0.3004245</td><td>0.3559768</td><td>0.9668534</td><td>0.4022940</td><td>0.8567137</td></tr>\n",
              "\t<tr><td>0.8643322</td><td>0.1702851</td><td>0.8018412</td><td>0.9847127</td><td>0.9346575</td></tr>\n",
              "</tbody>\n",
              "</table>\n"
            ],
            "text/markdown": "\nA matrix: 4 × 5 of type dbl\n\n| 0.1620186 | 0.7919480 | 0.1750495 | 0.8312216 | 0.7887331 |\n| 0.1448891 | 0.5953602 | 0.1843555 | 0.5566000 | 0.1940169 |\n| 0.3004245 | 0.3559768 | 0.9668534 | 0.4022940 | 0.8567137 |\n| 0.8643322 | 0.1702851 | 0.8018412 | 0.9847127 | 0.9346575 |\n\n",
            "text/latex": "A matrix: 4 × 5 of type dbl\n\\begin{tabular}{lllll}\n\t 0.1620186 & 0.7919480 & 0.1750495 & 0.8312216 & 0.7887331\\\\\n\t 0.1448891 & 0.5953602 & 0.1843555 & 0.5566000 & 0.1940169\\\\\n\t 0.3004245 & 0.3559768 & 0.9668534 & 0.4022940 & 0.8567137\\\\\n\t 0.8643322 & 0.1702851 & 0.8018412 & 0.9847127 & 0.9346575\\\\\n\\end{tabular}\n",
            "text/plain": [
              "     [,1]      [,2]      [,3]      [,4]      [,5]     \n",
              "[1,] 0.1620186 0.7919480 0.1750495 0.8312216 0.7887331\n",
              "[2,] 0.1448891 0.5953602 0.1843555 0.5566000 0.1940169\n",
              "[3,] 0.3004245 0.3559768 0.9668534 0.4022940 0.8567137\n",
              "[4,] 0.8643322 0.1702851 0.8018412 0.9847127 0.9346575"
            ]
          },
          "metadata": {}
        }
      ]
    },
    {
      "cell_type": "markdown",
      "source": [
        "**Great Job!**"
      ],
      "metadata": {
        "id": "Nanz0-lQRGNE"
      }
    }
  ]
}