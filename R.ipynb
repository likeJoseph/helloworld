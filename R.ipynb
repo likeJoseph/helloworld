{
  "nbformat": 4,
  "nbformat_minor": 0,
  "metadata": {
    "colab": {
      "provenance": [],
      "authorship_tag": "ABX9TyM9Ms/RBVhqiJIBw5nzoIRq",
      "include_colab_link": true
    },
    "kernelspec": {
      "name": "ir",
      "display_name": "R"
    },
    "language_info": {
      "name": "R"
    }
  },
  "cells": [
    {
      "cell_type": "markdown",
      "metadata": {
        "id": "view-in-github",
        "colab_type": "text"
      },
      "source": [
        "<a href=\"https://colab.research.google.com/github/likeJoseph/helloworld/blob/master/R.ipynb\" target=\"_parent\"><img src=\"https://colab.research.google.com/assets/colab-badge.svg\" alt=\"Open In Colab\"/></a>"
      ]
    },
    {
      "cell_type": "markdown",
      "source": [
        "https://colab.research.google.com/notebook#create=true&language=r\n"
      ],
      "metadata": {
        "id": "5wtlt-Jn2DyS"
      }
    },
    {
      "cell_type": "code",
      "source": [
        "library(data.table)"
      ],
      "metadata": {
        "id": "bbLfoXDr2Hlg"
      },
      "execution_count": 1,
      "outputs": []
    }
  ]
}