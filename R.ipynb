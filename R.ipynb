{
  "nbformat": 4,
  "nbformat_minor": 0,
  "metadata": {
    "colab": {
      "provenance": [],
      "authorship_tag": "ABX9TyOeIYwoAlZG6QGl37jBP2cz",
      "include_colab_link": true
    },
    "kernelspec": {
      "name": "ir",
      "display_name": "R"
    },
    "language_info": {
      "name": "R"
    }
  },
  "cells": [
    {
      "cell_type": "markdown",
      "metadata": {
        "id": "view-in-github",
        "colab_type": "text"
      },
      "source": [
        "<a href=\"https://colab.research.google.com/github/likeJoseph/helloworld/blob/master/R.ipynb\" target=\"_parent\"><img src=\"https://colab.research.google.com/assets/colab-badge.svg\" alt=\"Open In Colab\"/></a>"
      ]
    },
    {
      "cell_type": "markdown",
      "source": [
        "https://colab.research.google.com/notebook#create=true&language=r\n"
      ],
      "metadata": {
        "id": "5wtlt-Jn2DyS"
      }
    },
    {
      "cell_type": "code",
      "source": [
        "library(data.table)\n",
        "library(dplyr)"
      ],
      "metadata": {
        "id": "bbLfoXDr2Hlg"
      },
      "execution_count": 3,
      "outputs": []
    },
    {
      "cell_type": "code",
      "source": [
        "v <- 1:10"
      ],
      "metadata": {
        "id": "jwH5A3QYePoH"
      },
      "execution_count": 4,
      "outputs": []
    },
    {
      "cell_type": "code",
      "source": [
        "mat <- matrix(v[1:4], 2)\n",
        "colnames(mat) <- c('Mon','Wed')\n",
        "rownames(mat) <- c('Jun','Chan')"
      ],
      "metadata": {
        "id": "MdLw7WUThUUq"
      },
      "execution_count": 9,
      "outputs": []
    },
    {
      "cell_type": "code",
      "source": [
        "print(mat)"
      ],
      "metadata": {
        "colab": {
          "base_uri": "https://localhost:8080/"
        },
        "id": "ebvDZicHhwQr",
        "outputId": "b4cd0071-8e3c-4b31-db4c-1c58f9d30c1e"
      },
      "execution_count": 10,
      "outputs": [
        {
          "output_type": "stream",
          "name": "stdout",
          "text": [
            "     Mon Wed\n",
            "Jun    1   3\n",
            "Chan   2   4\n"
          ]
        }
      ]
    }
  ]
}